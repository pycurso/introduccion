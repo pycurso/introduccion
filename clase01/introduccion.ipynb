{
 "cells": [
  {
   "cell_type": "markdown",
   "metadata": {},
   "source": [
    "# Tipos de datos"
   ]
  },
  {
   "cell_type": "code",
   "execution_count": null,
   "metadata": {
    "collapsed": true
   },
   "outputs": [],
   "source": [
    "# Entero\n",
    "a = 1\n",
    "print(a)\n",
    "\n",
    "# Flotante\n",
    "b = 1.0\n",
    "print(b)\n",
    "\n",
    "# String\n",
    "c = \"Hello world\"\n",
    "print(c)\n",
    "\n",
    "# string multilinea\n",
    "c = \"\"\"Hello\n",
    "       World\n",
    "    \"\"\"\n",
    "print(c)\n",
    "\n",
    "# Unicode\n",
    "d = u\"Привет, мир!\"\n",
    "print(d)\n",
    "\n",
    "# Lista (array)\n",
    "e = [1, 2, 3]\n",
    "print(e[2]) # 3\n",
    "\n",
    "# Tupla (constant array)\n",
    "f = (1, 2, 3)\n",
    "print(f[0]) # 1\n",
    "\n",
    "# Set\n",
    "g = {1, 1, 1, 2}\n",
    "print(g)\n",
    "\n",
    "# Diccionario (hash table, hash map)\n",
    "g = {1: 'One', 2: 'Two', 3: 'Three', \"uno\": 1, \"dos\":2}\n",
    "gg = dict(uno=1, dos=2)\n",
    "print(g[1]) # 'One'"
   ]
  },
  {
   "cell_type": "markdown",
   "metadata": {},
   "source": [
    "# Operaciones Aritmeticas"
   ]
  },
  {
   "cell_type": "code",
   "execution_count": null,
   "metadata": {},
   "outputs": [],
   "source": [
    "print 6+5\n",
    "print 16/3\n",
    "print 16.0/3\n",
    "print 16%3\n",
    "print 7**17\n"
   ]
  },
  {
   "cell_type": "markdown",
   "metadata": {},
   "source": [
    "Comparación"
   ]
  },
  {
   "cell_type": "code",
   "execution_count": null,
   "metadata": {},
   "outputs": [],
   "source": [
    "print 3==7\n",
    "print 3<=3\n",
    "print 1<8<3\n",
    "print 3!=7\n",
    "print 1<5<=9\n",
    "print None==47 \n"
   ]
  },
  {
   "cell_type": "markdown",
   "metadata": {},
   "source": [
    "# Logica (and, or, not, is) "
   ]
  },
  {
   "cell_type": "code",
   "execution_count": null,
   "metadata": {},
   "outputs": [],
   "source": [
    "print (3+4==7) or False\n",
    "print True and False \n",
    "print not (1==0)\n",
    "print not None\n",
    "print 1 is int"
   ]
  },
  {
   "cell_type": "markdown",
   "metadata": {},
   "source": [
    "# Operaciones en secuencias "
   ]
  },
  {
   "cell_type": "code",
   "execution_count": null,
   "metadata": {},
   "outputs": [],
   "source": [
    "lista=[1,2,3,[]]\n",
    "cadena='Python!'\n",
    "# Acceso\n",
    "\n",
    "print lista[2] \n",
    "print cadena[-1]\n",
    "print cadena[3:5] \n",
    "print lista[1:]\n",
    "\n",
    "#Comparacion\n",
    "\n",
    "print 'Adam'<'Alan'\n",
    "print (1,2,3)>(1,7)\n",
    "\n",
    "# Concatenacion\n",
    "\n",
    "print 'ja'*3\n",
    "print (1,2)+(3,4)\n",
    "\n",
    "# Asignacion\n",
    "\n",
    "lista[0]=cadena \n",
    "print lista\n",
    "\n",
    "lista[1:3]='xy'\n",
    "print lista\n",
    "\n",
    "lista[1:]=[]\n",
    "print lista\n",
    "\n",
    "\n",
    "#Pertenencia\n",
    "\n",
    "print 2 in [1,2,3,[]]\n",
    "print 'te' in 'tomate'\n",
    "print [2,3] in [1,2,3,[]]\n",
    "\n",
    "# Conversion\n",
    "\n",
    "print list('casa') \n",
    "print tuple([1,2,5])\n",
    "print str([1,2])\n",
    "\n",
    "# Borrado\n",
    "\n",
    "lista=[\"py2\", 5,7,1,4,3.2]\n",
    "del lista[0] \n",
    "print lista\n",
    "\n",
    "del lista[2:] \n",
    "print lista\n",
    "\n",
    "\n",
    "# otras operaciones\n",
    "l = len(lista)\n",
    "print \"Cantidad de elementos en la lista:\", l\n",
    "m = min(lista)\n",
    "print \"Minimo elemento de la secuencia:\", m\n",
    "mx = max(lista)\n",
    "print \"Maximo elemento de la secuencia:\", mx\n"
   ]
  },
  {
   "cell_type": "code",
   "execution_count": null,
   "metadata": {},
   "outputs": [],
   "source": [
    "#OPERACIONES EN LISTAS\n",
    "lista = [\"py2\", 2, 3, 4.4, -67, \"fin\"]\n",
    "# Agregar Elemento\n",
    "\n",
    "lista.append(\"nuevo\")\n",
    "print lista\n",
    "\n",
    "lista.insert(0,\"primero\")\n",
    "print lista\n",
    "\n",
    "\n",
    "# remover elemento\n",
    "lista.remove(\"nuevo\")\n",
    "print lista\n",
    "\n",
    "lista.pop()\n",
    "print lista\n",
    "lista.pop(0)\n",
    "print lista\n",
    "\n",
    "#Buscar un elemento\n",
    "\n",
    "indice = lista.index(\"py2\")\n",
    "print \"indice de py2:\", indice\n",
    "\n",
    "\n",
    "# Ordenar lista\n",
    "\n",
    "lista_ord =sorted(lista)\n",
    "print lista_ord\n",
    "\n",
    "lista.sort()\n",
    "print lista\n",
    "\n",
    "# invertir\n",
    "print \"Invertir\"\n",
    "print lista\n",
    "lista.reverse()\n",
    "print lista"
   ]
  },
  {
   "cell_type": "code",
   "execution_count": null,
   "metadata": {},
   "outputs": [],
   "source": [
    "# Operaciones con Cadenas\n",
    "#Separar palabras\n",
    "c = \" Una cadena con espacios \"\n",
    "print c.split()\n",
    "\n",
    "c = \"String-con-guiones\"\n",
    "print c.split(\"-\")\n",
    "\n",
    "#Unir Lista de palabras\n",
    "\n",
    "l = ['Una', 'cadena', 'con', 'espacios']\n",
    "cl = \" \".join(l)\n",
    "print cl\n",
    "\n"
   ]
  },
  {
   "cell_type": "markdown",
   "metadata": {},
   "source": [
    "# Operaciones con Diccionarios"
   ]
  },
  {
   "cell_type": "code",
   "execution_count": null,
   "metadata": {},
   "outputs": [],
   "source": [
    "d = dict(key=42, clave=\"clave\")\n",
    "dd = {\"key\":42, 1:\"uno\", \"clave\": -1, 42: \"dos\"}\n",
    "\n",
    "# Acceso\n",
    "print d['key']\n",
    "\n",
    "j = d.get(\"key\")\n",
    "k = d.get(\"a\")\n",
    "print j\n",
    "print k\n",
    "\n",
    "# Agregar elemento\n",
    "d[\"nuevo\"] = []\n",
    "print d\n",
    "\n",
    "# Borrado\n",
    "del dd[42]\n",
    "\n",
    "#Listar claves\n",
    "print d.keys() \n",
    "\n",
    "#Listar valores\n",
    "print d.values()\n",
    "\n"
   ]
  },
  {
   "cell_type": "markdown",
   "metadata": {},
   "source": [
    "# Control de flujos"
   ]
  },
  {
   "cell_type": "code",
   "execution_count": null,
   "metadata": {},
   "outputs": [],
   "source": [
    "# If\n",
    "\n",
    "i=1\n",
    "if i>0:\n",
    "    print \"i>0\"\n",
    "elif i<0:\n",
    "    print \"i<0\"\n",
    "else:\n",
    "    print \"i=0\"\n",
    "print \"Fin.\" \n",
    "\n",
    "# If en una linea\n",
    "a = \"i>0\" if i>0 else None\n",
    "print \"a=\", a"
   ]
  },
  {
   "cell_type": "code",
   "execution_count": null,
   "metadata": {},
   "outputs": [],
   "source": [
    "# While \n",
    "i = 0\n",
    "while i < 10:\n",
    "    print i\n",
    "    i += 1\n",
    "    if i == 5:\n",
    "        break\n",
    "print \"fin\""
   ]
  },
  {
   "cell_type": "code",
   "execution_count": null,
   "metadata": {},
   "outputs": [],
   "source": [
    "# For\n",
    "\n",
    "names = [\"Juan\", \"Pepe\", \"Maria\"]\n",
    "for name in names:\n",
    "    if name == \"Pepe\":\n",
    "        continue\n",
    "    print name\n"
   ]
  },
  {
   "cell_type": "code",
   "execution_count": null,
   "metadata": {},
   "outputs": [],
   "source": [
    "# Excepciones\n",
    "\n",
    "try:\n",
    "    a = \"string\" + i\n",
    "except TypeError as e:\n",
    "    a= \"string\" + str(i)\n",
    "except Exception as e:\n",
    "    print \"Todos los errores no declarados e imprime el detalle del error:\", e\n",
    "else:\n",
    "    print a\n",
    "finally:\n",
    "    print \"imprime siempre\"\n",
    "print \"Fin.\""
   ]
  },
  {
   "cell_type": "code",
   "execution_count": null,
   "metadata": {},
   "outputs": [],
   "source": [
    "# Declarando Errores\n",
    "nums = [1, 5, -1]\n",
    "for i in nums:\n",
    "    if i < 0:\n",
    "       raise Exception(\"No es un entero positivo!\")\n",
    "    print \"Entero Positivo\", i\n"
   ]
  },
  {
   "cell_type": "markdown",
   "metadata": {},
   "source": [
    "# Funciones"
   ]
  },
  {
   "cell_type": "code",
   "execution_count": null,
   "metadata": {},
   "outputs": [],
   "source": [
    "# Parametros opcionales\n",
    "def sumar_iva(monto, iva=21): \n",
    "    total = monto * (100.0+iva)/100 \n",
    "    return total\n",
    "\n",
    "res1 = sumar_iva(311.75)\n",
    "res2 = sumar_iva(311.75, 14)\n",
    "print res1, res2\n",
    "\n",
    "# Cantidad de parametros variables\n",
    "lista=[1,2,3,4]  \n",
    "\n",
    "def promedio(*p): \n",
    "    return sum(p)/len(p)\n",
    "\n",
    "print promedio(6,7,8,9)\n",
    "print promedio(6,7,8,9.0)\n",
    "print promedio(*lista)"
   ]
  }
 ],
 "metadata": {
  "kernelspec": {
   "display_name": "Python 2",
   "language": "python",
   "name": "python2"
  },
  "language_info": {
   "codemirror_mode": {
    "name": "ipython",
    "version": 2
   },
   "file_extension": ".py",
   "mimetype": "text/x-python",
   "name": "python",
   "nbconvert_exporter": "python",
   "pygments_lexer": "ipython2",
   "version": "2.7.6"
  }
 },
 "nbformat": 4,
 "nbformat_minor": 0
}
