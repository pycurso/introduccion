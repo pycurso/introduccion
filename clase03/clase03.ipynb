{
 "cells": [
  {
   "cell_type": "markdown",
   "metadata": {},
   "source": [
    "# Argumentos en funciones (*args y **kwargs)"
   ]
  },
  {
   "cell_type": "code",
   "execution_count": null,
   "metadata": {},
   "outputs": [],
   "source": [
    "# Funcion con argumentos definidos\n",
    "\n",
    "def suma_simple(a, b):\n",
    "    print \"La suma es\", a+b\n",
    "\n",
    "    \n",
    "# La misma funcion aceptando un numero indefinido de argumentos (*args)\n",
    "#\n",
    "\n",
    "def suma_args(*args):\n",
    "    print \"*args es una lista: %s\" % str(args)\n",
    "    s = 0\n",
    "    for i in args:\n",
    "        s += i\n",
    "    print \"La suma es\", s\n",
    "\n",
    "    \n",
    "# En el caso de las kwargs (keyword arguments) es un diccionario que\n",
    "# contiene el nombre de cada uno de los argumentos junto con su valor\n",
    "\n",
    "def print_kwargs(**kwargs):\n",
    "    print \"kwargs es un diccionario %s\" % str(kwargs)\n",
    "    for key, value in kwargs.items():\n",
    "        print \"El valor de {} es {}\".format(key, value)\n",
    "\n",
    "\n",
    "#ejecutando las funciones:\n",
    "print \"suma_simple():\"\n",
    "suma_simple(4, 5)\n",
    "print \"\\n\"\n",
    "\n",
    "print \"suma_args():\"\n",
    "suma_args(4, 5, 6, 7, 8, 9.5, 9.9)\n",
    "print \"\\n\"\n",
    "\n",
    "lista= [4, 5, 6, 7, 8, 9.5, 9.9]\n",
    "suma_args(*lista)\n",
    "print \"\\n\"\n",
    "\n",
    "\n",
    "#Los signos * y ** pueden también ser utilizados para almacenar \n",
    "#argumentos en un objeto para ser pasados luego a una función.\n",
    "\n",
    "print \"\"\"Los signos * y ** pueden también ser utilizados para almacenar \n",
    "argumentos en un objeto para ser pasados luego a una función.\"\"\"\n",
    "print \"\\n\"\n",
    "print \"otra de pasarle argumentos a suma_simple():\"\n",
    "sumar =  [4,5]\n",
    "suma_simple(*sumar)\n",
    "print \"\\n\"\n",
    "\n",
    "print \"print_kwargs():\"\n",
    "print_kwargs(key=1, otra_key=203.1, suma=\"suma\", obj =int)\n",
    "print \"\\n\"\n",
    "\n",
    "diccionario = {\"key\":1, \"suma\":57, \"otra_key\":123.1, \"obj\":float}\n",
    "print_kwargs(**diccionario)\n",
    "print \"\\n\""
   ]
  },
  {
   "cell_type": "markdown",
   "metadata": {},
   "source": [
    "# Threading"
   ]
  },
  {
   "cell_type": "code",
   "execution_count": null,
   "metadata": {},
   "outputs": [],
   "source": [
    "# El objeto Thread\n",
    "\n",
    "import random\n",
    "import time\n",
    "import threading\n",
    "\n",
    "\n",
    "def worker(count):\n",
    "    \"\"\"funcion que realiza el trabajo en el thread\"\"\"\n",
    "    timer = random.randint(1,4)\n",
    "    time.sleep(timer)\n",
    "    \n",
    "    # Saber en que thread me encuentro\n",
    "    # Cada instancia de la clase Thread tiene un nombre asigndo por defecto si no se lo especificamos.\n",
    "    hilo = threading.currentThread().getName()\n",
    "    \n",
    "    print \"-worker: %d -hilo:%s -sleep:%d seg.\" % (count, hilo, timer)\n",
    "\n",
    "\n",
    "threads = list()\n",
    "for i in range(3):\n",
    "    t = threading.Thread(target=worker, args=(i,), name=\"hilo_%d\" % i)\n",
    "    threads.append(t)\n",
    "    t.start()\n",
    "    \n",
    "\n"
   ]
  },
  {
   "cell_type": "code",
   "execution_count": null,
   "metadata": {},
   "outputs": [],
   "source": [
    "# Uso de Semaforos\n",
    "\n",
    "import threading\n",
    "import random\n",
    "import time \n",
    "\n",
    "n_sem = 1\n",
    "semaforo = threading.Semaphore(n_sem)\n",
    "\n",
    "def worker(count):\n",
    "    \"\"\"funcion que realiza el trabajo en el thread\"\"\"\n",
    "    hilo = threading.currentThread().getName()\n",
    "    semaforo.acquire()\n",
    "    print \"%s: semaforo.acquire()\" % hilo\n",
    "    timer = random.randint(1,4)\n",
    "    time.sleep(timer)\n",
    "       \n",
    "    \n",
    "    print \"worker: %d hilo:%s sleep:%d seg.\" % (count, hilo, timer)\n",
    "    semaforo.release()\n",
    "    print \"semaforo.release()\"\n",
    "    \n",
    "\n",
    "threads = list()\n",
    "for i in range(3):\n",
    "    t = threading.Thread(target=worker, args=(i,), name=\"hilo_%d\" % i)\n",
    "    threads.append(t)\n",
    "    t.start()\n",
    "    \n"
   ]
  },
  {
   "cell_type": "markdown",
   "metadata": {},
   "source": [
    "# Subprocess"
   ]
  },
  {
   "cell_type": "code",
   "execution_count": null,
   "metadata": {},
   "outputs": [],
   "source": [
    "# Metodo call\n",
    "# Ejecuta comando con argumentos y Espera a que se complete el comando, luego devuelve el atributo returncode.\n",
    "\n",
    "import os\n",
    "import subprocess\n",
    "\n",
    "subprocess.call(['df', '-h'])\n"
   ]
  },
  {
   "cell_type": "code",
   "execution_count": null,
   "metadata": {},
   "outputs": [],
   "source": [
    "# Metodo check_call\n",
    "# evalua si el atributo returncode es 0, caso contrario larga una exception\n",
    "\n",
    "import os\n",
    "import subprocess\n",
    "\n",
    "print \"call:\"\n",
    "print subprocess.call([\"ps\",\"\"])\n",
    "\n",
    "print \"check_call:\"\n",
    "try:\n",
    "    subprocess.check_call([\"ps\",\"\"])\n",
    "except subprocess.CalledProcessError as e:\n",
    "    print \"Error en el subproceso:\", e\n",
    "    \n",
    "print \"check_call 2:\"\n",
    "subprocess.check_call([\"ps\",\"aux\"])\n"
   ]
  },
  {
   "cell_type": "code",
   "execution_count": null,
   "metadata": {},
   "outputs": [],
   "source": [
    "# Metodo check_output\n",
    "# Ejecuta comandos con argumentos y devuelve su salida como una cadena de bytes.\n",
    "\n",
    "import os\n",
    "import subprocess\n",
    "\n",
    "\n",
    "out = subprocess.check_output(['df', '-h'])\n",
    "print out"
   ]
  },
  {
   "cell_type": "code",
   "execution_count": 2,
   "metadata": {},
   "outputs": [
    {
     "name": "stdout",
     "output_type": "stream",
     "text": [
      "out: suprocess!\n",
      "\n"
     ]
    }
   ],
   "source": [
    "# Metodo popen\n",
    "\n",
    "import subprocess\n",
    "\n",
    "p = subprocess.Popen([\"echo\", \"suprocess!\"], stdout=subprocess.PIPE,)\n",
    "\n",
    "out, err = p.communicate()\n",
    "\n",
    "if out:\n",
    "    print \"out:\", out\n",
    "if err:\n",
    "    print \"error:\", err\n",
    "\n",
    "    "
   ]
  },
  {
   "cell_type": "code",
   "execution_count": null,
   "metadata": {},
   "outputs": [],
   "source": []
  }
 ],
 "metadata": {
  "kernelspec": {
   "display_name": "Python 2",
   "language": "python",
   "name": "python2"
  },
  "language_info": {
   "codemirror_mode": {
    "name": "ipython",
    "version": 2
   },
   "file_extension": ".py",
   "mimetype": "text/x-python",
   "name": "python",
   "nbconvert_exporter": "python",
   "pygments_lexer": "ipython2",
   "version": "2.7.12"
  }
 },
 "nbformat": 4,
 "nbformat_minor": 2
}
