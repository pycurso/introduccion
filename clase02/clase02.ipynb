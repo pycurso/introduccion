{
 "cells": [
  {
   "cell_type": "markdown",
   "metadata": {},
   "source": [
    "# Lib os"
   ]
  },
  {
   "cell_type": "code",
   "execution_count": null,
   "metadata": {},
   "outputs": [],
   "source": [
    "import os\n",
    "\n",
    "path =  os.getcwd()\n",
    "print \"os.getcwd():\", path\n",
    "os.chdir(\"/\")\n",
    "print \"os.getcwd():\", os.getcwd()\n",
    "os.chdir(path)\n",
    "\n",
    "# Listar un directorio\n",
    "print \"os.listdir(path):\", os.listdir(path)\n",
    "\n",
    "# Variables de entorno\n",
    "print \"Variables de entorno\"\n",
    "os_vars = os.environ\n",
    "print \"os.environ.keys()\", os.environ.keys()\n",
    "print 'os.environ.get(\"HOME\")', os.environ.get(\"HOME\")"
   ]
  },
  {
   "cell_type": "markdown",
   "metadata": {},
   "source": [
    "# os.path"
   ]
  },
  {
   "cell_type": "code",
   "execution_count": null,
   "metadata": {},
   "outputs": [],
   "source": [
    "import os\n",
    "\n",
    "p = \".\"\n",
    "p = os.path.abspath(p)\n",
    "print \"os.path.abspath(p):\", os.path.abspath(p)\n",
    "\n",
    "print \"os.path.basename(p):\",os.path.basename(p), \"os.path.dirname(p):\", os.path.dirname(p)\n",
    "print \"os.path.exists(p):\", os.path.exists(p)\n",
    "\n",
    "print \"os.path.getatime: \", os.path.getatime.__doc__\n",
    "print os.path.getatime(p)\n",
    "print \"os.path.getctime: \", os.path.getctime.__doc__\n",
    "print os.path.getctime(p)\n",
    "print \"os.path.getmtime: \", os.path.getmtime.__doc__\n",
    "print os.path.getmtime(p)\n",
    "\n",
    "print \"os.path.getsize(p):\", os.path.getsize(p)\n",
    "\n",
    "print \"os.path.isdir(p):\",os.path.isdir(p)\n",
    "print \"os.path.isfile(p):\", os.path.isfile(p)\n",
    "print \"os.path.islink(p):\", os.path.islink(p)\n",
    "print \"os.path.join(parts):\", os.path.join(\"/home\", \"curso\", \"Documents\")\n",
    "\n"
   ]
  },
  {
   "cell_type": "markdown",
   "metadata": {},
   "source": [
    "# sys"
   ]
  },
  {
   "cell_type": "code",
   "execution_count": null,
   "metadata": {},
   "outputs": [],
   "source": [
    "import sys\n",
    "# Acceder a los argumentos pasados al scripts de python\n",
    "print \"sys.argv:\", sys.argv\n",
    "\n",
    "# Lista con los directorios del entorno de python\n",
    "print \"sys.path:\", sys.path"
   ]
  },
  {
   "cell_type": "markdown",
   "metadata": {},
   "source": [
    "# Expresiones Regulares"
   ]
  },
  {
   "cell_type": "code",
   "execution_count": null,
   "metadata": {},
   "outputs": [],
   "source": [
    "# Metodo match\n",
    "cre = re.compile(r\"(\\w+) (\\w+)\")\n",
    "m = cre.match(\"Isaac Newton, fisico\")\n",
    "\n",
    "print \"m.group(0)\", m.group(0)\n",
    "print \"m.group(1)\", m.group(1)\n",
    "print \"m.group(2)\", m.group(2)\n",
    "\n",
    "# ejemplo 2\n",
    "\n",
    "print \"ejemplo 2\"\n",
    "urls = [\"/user/pepe/fotos\", \"/user/132/profile\", \"/user/carlos/post\"]\n",
    "pattern = \"/user/([0-9a-zA-Z-_]+)/([a-z]+)\"\n",
    "for url in urls:\n",
    "    user, view = re.match(pattern, url).groups()\n",
    "    print \"user:%s view:%s\" % (user, view)\n",
    "\n",
    "    \n",
    "# funcion search\n",
    "\n",
    "line = \"Cats are smarter than dogs\"\n",
    "\n",
    "search_obj = re.search( r'(.*) are (.*?) .*', line)\n",
    "\n",
    "if search_obj:\n",
    "   print \"search_obj.group(): \", search_obj.group()\n",
    "   print \"search_obj.group(1): \", search_obj.group(1)\n",
    "   print \"search_obj.group(2): \", search_obj.group(2)\n",
    "else:\n",
    "   print \"Nothing found!!\""
   ]
  },
  {
   "cell_type": "markdown",
   "metadata": {},
   "source": [
    "# Archivos"
   ]
  },
  {
   "cell_type": "code",
   "execution_count": 3,
   "metadata": {},
   "outputs": [
    {
     "name": "stdout",
     "output_type": "stream",
     "text": [
      "Lindo es mejor que feo.\n",
      "\n",
      "Explícito es mejor que implícito.\n",
      "\n",
      "Simple es mejor que complejo.\n",
      "\n",
      "Complejo es mejor que complicado.\n",
      "\n",
      "Plano es mejor que anidado.\n",
      "\n",
      "Espaciado es mejor que denso.\n",
      "\n",
      "La legibilidad es importante.\n",
      "\n",
      "Los casos especiales no son lo suficientemente especiales como para romper las reglas.\n",
      "\n",
      "Sin embargo la practicidad le gana a la pureza.\n",
      "\n",
      "Los errores nunca deberían pasar silenciosamente.\n",
      "\n",
      "A menos que se silencien explícitamente.\n",
      "\n",
      "Frente a la ambigüedad, evitá la tentación de adivinar.\n",
      "\n",
      "Debería haber una, y solamente una, manera obvia de hacerlo.\n",
      "\n",
      "A pesar de que no sea obvio a menos que seas Holandés (como GvR)\n",
      "\n",
      "Ahora es mejor que nunca.\n",
      "\n",
      "A pesar de que nunca es muchas veces mejor que justo ahora.\n",
      "\n",
      "Si la implementación es dificil de explicar, es una mala idea.\n",
      "\n",
      "Si la implementación es fácil de explicar, quizás sea una buena idea.\n",
      "\n",
      "Los espacios de nombres son una gran idea, ¡tengamos más de esas!\n"
     ]
    }
   ],
   "source": [
    "# abrir y escribir\n",
    "\n",
    "f = open(\"prueba.txt\",\"w\") \n",
    "f.write('hola!\\n')\n",
    "f.write('como estas?\\n')\n",
    "f.close()\n",
    "\n",
    "# abrir solo lectura\n",
    "f = open(\"recursos/zen.txt\", \"r\")\n",
    "for line in f.readlines():\n",
    "    print line\n",
    "    \n",
    "    \n"
   ]
  },
  {
   "cell_type": "markdown",
   "metadata": {},
   "source": [
    "# json"
   ]
  },
  {
   "cell_type": "code",
   "execution_count": null,
   "metadata": {},
   "outputs": [],
   "source": [
    "import json\n",
    "\n",
    "cadena = '{\"a\": 1, \"b\": 2, \"c\": \"strings\", \"d\": true}'\n",
    "print cadena\n",
    "diccionario = json.loads(cadena)\n",
    "print diccionario\n",
    "json_data = json.dumps(diccionario)\n",
    "print json_data\n"
   ]
  },
  {
   "cell_type": "markdown",
   "metadata": {},
   "source": [
    "# random"
   ]
  },
  {
   "cell_type": "code",
   "execution_count": null,
   "metadata": {},
   "outputs": [],
   "source": [
    "import random \n",
    "\n",
    "#inicializar\n",
    "random.seed()\n",
    "\n",
    "\n",
    "print random.choice(\n",
    "         ['piedra', 'papel', 'tijera']\n",
    "      )\n",
    "print random.random()\n",
    "print random.randint(0, 10)\n",
    "print random.sample([1, 2, 3, 4], 3)\n",
    "\n",
    "print \"shuffle\"\n",
    "l = range(10)\n",
    "print l\n",
    "random.shuffle(l)\n",
    "print l"
   ]
  },
  {
   "cell_type": "markdown",
   "metadata": {},
   "source": [
    "# urlib2"
   ]
  },
  {
   "cell_type": "code",
   "execution_count": null,
   "metadata": {},
   "outputs": [],
   "source": [
    "import urllib2\n",
    "f = urllib2.urlopen(\"http://www.kernel.org\")\n",
    "\n",
    "print f.read(100)"
   ]
  },
  {
   "cell_type": "markdown",
   "metadata": {},
   "source": [
    "# requests"
   ]
  },
  {
   "cell_type": "code",
   "execution_count": null,
   "metadata": {},
   "outputs": [],
   "source": [
    "# la instalamos con:\n",
    "# pip install requests\n",
    "import requests\n",
    "\n",
    "# metodo GET\n",
    "r = requests.get(\"http://www.kernel.org\")\n",
    "print r.ok\n",
    "print r.status_code\n",
    "print r.text[:100] + \"...\"\n",
    "\n",
    "# ejemplo 2\n",
    "r = requests.get(\"https://pyapi.herokuapp.com/chat\")\n",
    "print r.ok\n",
    "print r.status_code\n",
    "print r.json()\n",
    "\n",
    "\n",
    "# metodo POST\n",
    "q = requests.post(\"https://pyapi.herokuapp.com/chat\", json={\"nombre\": \"Mario\", \"comentario\": \"desde consola\"})\n",
    "print q.ok\n",
    "print q.status_code\n",
    "print q.json()\n"
   ]
  }
 ],
 "metadata": {
  "kernelspec": {
   "display_name": "Python 2",
   "language": "python",
   "name": "python2"
  },
  "language_info": {
   "codemirror_mode": {
    "name": "ipython",
    "version": 2
   },
   "file_extension": ".py",
   "mimetype": "text/x-python",
   "name": "python",
   "nbconvert_exporter": "python",
   "pygments_lexer": "ipython2",
   "version": "2.7.12"
  }
 },
 "nbformat": 4,
 "nbformat_minor": 2
}
