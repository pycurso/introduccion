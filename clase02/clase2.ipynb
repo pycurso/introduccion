{
 "cells": [
  {
   "cell_type": "markdown",
   "metadata": {
    "collapsed": true
   },
   "source": [
    "# Lib os"
   ]
  },
  {
   "cell_type": "code",
   "execution_count": null,
   "metadata": {},
   "outputs": [],
   "source": [
    "import os\n",
    "\n",
    "path =  os.getcwd()\n",
    "print \"os.getcwd():\", path\n",
    "os.chdir(\"/\")\n",
    "print \"os.getcwd():\", os.getcwd()\n",
    "os.chdir(path)\n",
    "\n",
    "# Listar un directorio\n",
    "print \"os.listdir(path):\", os.listdir(path)\n",
    "\n",
    "# Variables de entorno\n",
    "print \"Variables de entorno\"\n",
    "os_vars = os.environ\n",
    "print \"os.environ.keys()\", os.environ.keys()\n",
    "print 'os.environ.get(\"HOME\")', os.environ.get(\"HOME\")"
   ]
  },
  {
   "cell_type": "markdown",
   "metadata": {},
   "source": [
    "# os.path"
   ]
  },
  {
   "cell_type": "code",
   "execution_count": null,
   "metadata": {},
   "outputs": [],
   "source": [
    "import os\n",
    "\n",
    "p = \".\"\n",
    "p = os.path.abspath(p)\n",
    "print \"os.path.abspath(p):\", os.path.abspath(p)\n",
    "\n",
    "print \"os.path.basename(p):\",os.path.basename(p), \"os.path.dirname(p):\", os.path.dirname(p)\n",
    "print \"os.path.exists(p):\", os.path.exists(p)\n",
    "\n",
    "print \"os.path.getatime: \", os.path.getatime.__doc__\n",
    "print os.path.getatime(p)\n",
    "print \"os.path.getctime: \", os.path.getctime.__doc__\n",
    "print os.path.getctime(p)\n",
    "print \"os.path.getmtime: \", os.path.getmtime.__doc__\n",
    "print os.path.getmtime(p)\n",
    "\n",
    "print \"os.path.getsize(p):\", os.path.getsize(p)\n",
    "\n",
    "print \"os.path.isdir(p):\",os.path.isdir(p)\n",
    "print \"os.path.isfile(p):\", os.path.isfile(p)\n",
    "print \"os.path.islink(p):\", os.path.islink(p)\n",
    "print \"os.path.join(parts):\", os.path.join(parts)\n",
    "\n",
    "os.path.walk(top, func, arg)"
   ]
  },
  {
   "cell_type": "markdown",
   "metadata": {},
   "source": [
    "# sys"
   ]
  },
  {
   "cell_type": "code",
   "execution_count": null,
   "metadata": {},
   "outputs": [],
   "source": [
    "import sys\n",
    "# Acceder a los argumentos pasados al scripts de python\n",
    "print \"sys.argv:\", sys.argv\n",
    "\n",
    "# Lista con los directorios del entorno de python\n",
    "print \"sys.path:\", sys.path"
   ]
  },
  {
   "cell_type": "markdown",
   "metadata": {},
   "source": [
    "# Expresiones Regulares"
   ]
  },
  {
   "cell_type": "code",
   "execution_count": null,
   "metadata": {},
   "outputs": [],
   "source": [
    ""
   ]
  }
 ],
 "metadata": {
  "kernelspec": {
   "display_name": "Python 2",
   "language": "python",
   "name": "python2"
  },
  "language_info": {
   "codemirror_mode": {
    "name": "ipython",
    "version": 2.0
   },
   "file_extension": ".py",
   "mimetype": "text/x-python",
   "name": "python",
   "nbconvert_exporter": "python",
   "pygments_lexer": "ipython2",
   "version": "2.7.6"
  }
 },
 "nbformat": 4,
 "nbformat_minor": 0
}