{
 "cells": [
  {
   "cell_type": "markdown",
   "metadata": {},
   "source": [
    "# Clases en Python"
   ]
  },
  {
   "cell_type": "code",
   "execution_count": null,
   "metadata": {},
   "outputs": [],
   "source": [
    "class MiClase:\n",
    "    \"\"\"Simple clase de ejemplo\"\"\"\n",
    "    i = 12345\n",
    "    def f(self):\n",
    "        return 'hola mundo'\n",
    "\n",
    "\n",
    "print MiClase.__doc__\n",
    "print \"\\n\"\n",
    "print MiClase.i\n",
    "print MiClase.f\n",
    "print \"\\n\"\n",
    "print help(MiClase)"
   ]
  },
  {
   "cell_type": "code",
   "execution_count": null,
   "metadata": {},
   "outputs": [],
   "source": [
    "# instanciación\n",
    "i = MiClase()\n",
    "saludo = i.f()\n",
    "print saludo"
   ]
  },
  {
   "cell_type": "code",
   "execution_count": null,
   "metadata": {},
   "outputs": [],
   "source": [
    "# Inicializaciòn __init__\n",
    "\n",
    "class Complejo(object):\n",
    "    def __init__(self, partereal, parteimaginaria):\n",
    "        self.r = partereal\n",
    "        self.i = parteimaginaria\n",
    "    \n",
    "    def __str__(self):\n",
    "        return \"({},i{})\".format(self.r, self.i)\n",
    "    \n",
    "    def __unicode__(self):\n",
    "        return self.__str__()\n",
    "\n",
    "\n",
    "complejo = Complejo(3.0, -4.5)\n",
    "print complejo\n",
    "print complejo.__unicode__()"
   ]
  },
  {
   "cell_type": "code",
   "execution_count": null,
   "metadata": {},
   "outputs": [],
   "source": [
    "# Herencia\n",
    "\n",
    "class Persona(object): # si no se declara una clase padre, hereda de object de forma implicita\n",
    "    def __init__(self, nombre, edad=30, sexo=None):\n",
    "        self.nombre = nombre\n",
    "        self.edad = edad\n",
    "        self.sexo = sexo\n",
    "    \n",
    "    def presentarse(self):\n",
    "        return \"hola mi nombre es %s\" % self.nombre\n",
    "\n",
    "\n",
    "class Empleado(Persona):\n",
    "    def __init__(self, nombre, edad=30, sexo=None): # En este caso se sobreescribe el metodo de inicializacion\n",
    "        self.puesto = None\n",
    "        self.sueldo = None\n",
    "        super(Empleado, self).__init__(nombre, edad, sexo)\n",
    "    \n",
    "    def resumen(self):\n",
    "        return {\"nombre\": self.nombre, \"edad\": self.edad, \"puesto\": self.puesto, \"sueldo\":self.sueldo}\n",
    "    \n",
    "    def __str__(self):\n",
    "        return \"{}-{}\".format(self.nombre, self.puesto)\n",
    "    \n",
    "    def __len__(self):\n",
    "        return self.edad\n",
    "    \n",
    "    \n",
    "print \"EMPLEADO __mro__:\", [x.__name__ for x in Empleado.__mro__]\n",
    "print \"\\n\"\n",
    "\n",
    "# instanciando\n",
    "p = Persona(\"Pepe\", 41, \"M\")\n",
    "print \"p type:\", type(p)\n",
    "\n",
    "e = Empleado(\"Maria\", sexo=\"F\")\n",
    "print \"e type:\", type(e)\n",
    "print \"\\n\"\n",
    "print \"funcion len:\", len(e)\n",
    "print \"\\n\"\n",
    "e.puesto = \"Desarrollador Python\"\n",
    "e.sueldo = \"u$2500\"\n",
    "\n",
    "print e.resumen()\n",
    "print \"\\n\"\n",
    "print e.presentarse()\n",
    "print p.presentarse()\n",
    "print \"\\n\"\n",
    "\n",
    "# La funcion isinstance evalua si el objeto es una instancia de alguna clase\n",
    "print \"e isinstance de Empleado ?\", isinstance(e,Empleado)\n",
    "print \"e isinstance de Persona ?\", isinstance(e, Persona)\n",
    "print \"\\n\"\n",
    "\n",
    "#La funcion issubclass\n",
    "print \"Empleado issubclass de Persona ?\", issubclass(Empleado, Persona)\n",
    "print \"Persona issubclass de Empleado ?\", issubclass(Persona, Empleado)\n",
    "print \"issubclass(bool, int)\", issubclass(bool, int)"
   ]
  },
  {
   "cell_type": "code",
   "execution_count": null,
   "metadata": {},
   "outputs": [],
   "source": [
    "# Herencia multiple\n",
    "\n",
    "class A(object):\n",
    "    def sumar_uno(self, num):\n",
    "        return num + 1\n",
    "\n",
    "    \n",
    "class B(object):\n",
    "    def __init__(self):\n",
    "        self.constante = 45\n",
    "        \n",
    "    def restar_uno(self, num):\n",
    "        return num - 1\n",
    "\n",
    "    def get_constante(self):\n",
    "        return self.constante\n",
    "\n",
    "    \n",
    "class C(A,B):\n",
    "    pass\n",
    "\n",
    "c = C()\n",
    "print c.sumar_uno(5)\n",
    "print c.restar_uno(5)\n",
    "print c.get_constante()\n",
    "\n",
    "print \"C __mro__:\", [x.__name__ for x in C.__mro__]\n",
    "\n"
   ]
  },
  {
   "cell_type": "code",
   "execution_count": null,
   "metadata": {},
   "outputs": [],
   "source": [
    "# Polimorfismo\n",
    "class Pajaro():\n",
    "    def desplazar(self):\n",
    "        print(\"Volar\")\n",
    "\n",
    "        \n",
    "class Vibora():\n",
    "    def desplazar(self):\n",
    "        print(\"Arrastrarse\")\n",
    "        \n",
    "class Ballena():\n",
    "    def desplazar(self):\n",
    "        print(\"Nadar\")\n",
    "\n",
    "\n",
    "p = Pajaro()\n",
    "v = Vibora()\n",
    "b = Ballena()\n",
    "\n",
    "for animal in [p, v, b]:\n",
    "    animal.desplazar()\n",
    "\n",
    "\n"
   ]
  },
  {
   "cell_type": "code",
   "execution_count": null,
   "metadata": {},
   "outputs": [],
   "source": [
    "# Un poco de metaclases\n",
    "# La metaclase type\n",
    "\n",
    "type(object)  "
   ]
  },
  {
   "cell_type": "code",
   "execution_count": null,
   "metadata": {},
   "outputs": [],
   "source": [
    "def desplazar(self):\n",
    "        print(\"Volar\")\n",
    "        \n",
    "Pajaro = type(\"Pajaro\", (object,), {\"atributo_uno\": \"valor_inicial\", \"desplazar\": desplazar})\n",
    "\n",
    "p = Pajaro()\n",
    "p.desplazar()"
   ]
  },
  {
   "cell_type": "markdown",
   "metadata": {},
   "source": [
    "# Generadores"
   ]
  },
  {
   "cell_type": "code",
   "execution_count": null,
   "metadata": {},
   "outputs": [],
   "source": [
    "s = 'abc'\n",
    "it = iter(s)\n",
    "print it.next()\n",
    "print it.next()\n",
    "print it.next()\n",
    "print it.next()"
   ]
  },
  {
   "cell_type": "code",
   "execution_count": null,
   "metadata": {},
   "outputs": [],
   "source": [
    "# Generadores\n",
    "\n",
    "def generador(datos):\n",
    "    print \"Arranca el generador\"\n",
    "    for elemento in datos:\n",
    "        yield elemento\n",
    "        print \"la funcion puede seguir\"\n",
    "\n",
    "for letra in generador('golf'):\n",
    "        print letra\n",
    "        "
   ]
  },
  {
   "cell_type": "markdown",
   "metadata": {},
   "source": [
    "# Lambda"
   ]
  },
  {
   "cell_type": "code",
   "execution_count": null,
   "metadata": {},
   "outputs": [],
   "source": [
    "#Funcion \"Comun\"\n",
    "def f(x, y, z=1):\n",
    "    return (x+y) * z\n",
    "\n",
    "print \"funcion\", f(1,2,3)\n",
    "\n",
    "# Funcion Lambda\n",
    "f = lambda x, y, z=1: (x+y) * z\n",
    "\n",
    "print \"lambda\", f(1,2,3)\n",
    "\n",
    "print \"Otra forma lambda\", (lambda x, y, z=1: (x+y) * z)(1,2,3)"
   ]
  },
  {
   "cell_type": "markdown",
   "metadata": {},
   "source": [
    "# Filter, Map, Reduce"
   ]
  },
  {
   "cell_type": "code",
   "execution_count": null,
   "metadata": {},
   "outputs": [],
   "source": [
    "# funcion map\n",
    "def exp(num):\n",
    "    return num**2\n",
    "\n",
    "r = map(exp, range(9))\n",
    "\n",
    "print r\n",
    "\n",
    "r = map(lambda num: num**2, range(9))\n",
    "\n",
    "print r\n"
   ]
  },
  {
   "cell_type": "code",
   "execution_count": null,
   "metadata": {},
   "outputs": [],
   "source": [
    "# funcion filter\n",
    "r = filter(lambda x: x % 2 == 0, range(9))\n",
    "print r"
   ]
  },
  {
   "cell_type": "code",
   "execution_count": null,
   "metadata": {},
   "outputs": [],
   "source": [
    "# funcion reduce\n",
    "r = reduce(lambda x,y: x+y, range(9))\n",
    "print r "
   ]
  },
  {
   "cell_type": "markdown",
   "metadata": {},
   "source": [
    "# Lista por comprension"
   ]
  },
  {
   "cell_type": "code",
   "execution_count": null,
   "metadata": {},
   "outputs": [],
   "source": [
    "l = [i**2 for i in range(9)]\n",
    "print l\n",
    "\n",
    "l = [i**2 for i in range(9) if i%2 == 0]\n",
    "print l"
   ]
  }
 ],
 "metadata": {
  "kernelspec": {
   "display_name": "Python 2",
   "language": "python",
   "name": "python2"
  },
  "language_info": {
   "codemirror_mode": {
    "name": "ipython",
    "version": 2
   },
   "file_extension": ".py",
   "mimetype": "text/x-python",
   "name": "python",
   "nbconvert_exporter": "python",
   "pygments_lexer": "ipython2",
   "version": "2.7.13"
  }
 },
 "nbformat": 4,
 "nbformat_minor": 2
}
